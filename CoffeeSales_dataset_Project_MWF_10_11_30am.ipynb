{
  "nbformat": 4,
  "nbformat_minor": 0,
  "metadata": {
    "colab": {
      "name": "CoffeeSales_dataset_Project_MWF-10-11.30am.ipynb",
      "provenance": []
    },
    "kernelspec": {
      "display_name": "Python 3",
      "language": "python",
      "name": "python3"
    },
    "language_info": {
      "codemirror_mode": {
        "name": "ipython",
        "version": 3
      },
      "file_extension": ".py",
      "mimetype": "text/x-python",
      "name": "python",
      "nbconvert_exporter": "python",
      "pygments_lexer": "ipython3",
      "version": "3.7.3"
    }
  },
  "cells": [
    {
      "cell_type": "markdown",
      "metadata": {
        "id": "1zJd_vEHw6jz"
      },
      "source": [
        "## Coffee Dataset EDA Project"
      ]
    },
    {
      "cell_type": "markdown",
      "metadata": {
        "id": "7jc_wh5nw6j2"
      },
      "source": [
        "#### Coffee_EDA_Questions\n",
        "\n",
        "1) Read the dataset<br>\n",
        "2) Remove/handle the null values<br>\n",
        "3) Depict different Market types and their count on a bar chart<br>\n",
        "4) Depict different Product types and their count on a line chart<br>\n",
        "5) Depict different State and their percentage distribution on a pie chart<br>\n",
        "6) Depict Market wise sum of Profit and depict the result on bar chart.<br>\n",
        "7) Depict Product wise mean of Sales and depict the result on bar chart and line chart superimposed<br>\n",
        "8) Depict Profit vs Sales on a Scatter Chart where Product is 'Regular Espresso'<br>\n",
        "9) Depict Budget Profit vs Budget Sales on a Scatter Chart where State is California and Product is 'Earl Grey'<br>\n",
        "10) Depict Market wise mean of Budget Sales and mean of Sales in a stacked bar chart<br>\n",
        "11) Plot the Frequency distribution of Total Expenses<br>\n",
        "12) Compare Frequency Distribution of Profit and Budget Profit on a histogram for the Oregon State<br>\n",
        "13) Compare Frequency of COGS and Budget COGS on a histogram for the Eastern Market for the Product Cafe Mocha<br>\n",
        "14) Compare Sales vs Profit on a histogram for the Eastern or Central Market and for Decaf Type<br>\n",
        "15) Depict the quartile distribution of COGS where Sales is greater than 400<br>\n",
        "16) Depict the quartile distribution of Budget Profit for Decaf Espresso<br>\n",
        "17) Find the Market, Product and Type where Sales is maximum<br>\n",
        "18) Find State and Market with Maximum Profit or Maximum Budget Profit<br>\n",
        "19) Find Product, State and Market where Total Exepnses are minimum<br>\n",
        "20) Statisically infer the State, Product and Market chosen to further expnad/invest into the Coffee Business based on Sales, Profit and Total Expenses<br>\n",
        "21) Statisically infer the State, Product and Market chosen to further withhold the Coffee Business based on Sales, Profit and Total Expenses.\n",
        "\n",
        "<b>Pandas Plots</b>\n",
        "\n",
        "22) Depict Market and Type wise sum of Budget Profit on a bar chart<br>\n",
        "23) Depict Product Type and State wise mean of Sales on a bar chart<br>\n",
        "24) Depict Product and Type wise sum of Budget COGS on a line Chart<br>\n",
        "25) Depict Product and Type wise sum of Budget Profit and Budget Sales on a line Chart<br>\n",
        "26) Depict Market and Product Type based mean of Sales on a bar chart and on a stacked bar chart separately<br>\n",
        "27) Find State and Market Size based mean of Sales and COGS where Market is not Central and Profit is over 350. Depict the result on a line chart and stacked bar separately<br>\n",
        "28) Find Product and Market Size based mean of Budget COGS and Inventory where Type is Regular and neither product or its Type is Espresso. Depict the result on a line chart and stacked bar separately <br>\n",
        "\n",
        "\n",
        "<b>Seaborn EDA</b><br>\n",
        "\n",
        "1) Depict Product based on Market Size on a count plot<br>\n",
        "2) Depict State based on Market on a count plot<br>\n",
        "3) Depict the Product Type vs Total Expenses on a Violin Plot based on Market<br>\n",
        "4) Depict Market vs Budget COGS on a boxplot<br>\n",
        "5) Depict Product vs Margin on a boxplot based on Market Size<br>\n",
        "6) Depict the Market vs Budget Sales on a Violin Plot based on Product Type where product is Colombina or Darjeeling<br>\n",
        "7) Depict the Product vs Inventory on a Box Plot based on Product Type where State is California or Nevada<br>\n",
        "8) Generate Pairplot for the Coffee dataset where Type is Regular including fields- Budget Sales, Budget Profit, Budget COGS, Sales, Proift and COGS<br>\n",
        "9)  Generate Pairplot for the Coffee dataset where Profit is over 250 based on Type including fields- Budget Sales, Budget Profit, Budget COGS, Sales, Proift and COGS<br>\n",
        "10) Generate Pairplot for the Coffee dataset where Market is Western or Central based and Product Line is beans based on Type including fields- COGS, Sales, Proift and Total Expenses<br>\n",
        "11) Depict Market vs Total Expenses based on Type on a Swarm Plot where Sales is over 200 and Market Size is Small<br>\n",
        "12) Depict correlation values on a heatmap<br>\n"
      ]
    },
    {
      "cell_type": "code",
      "metadata": {
        "colab": {
          "background_save": true
        },
        "id": "8CY8lhfnw6j3"
      },
      "source": [
        "import pandas as pd\n",
        "import matplotlib.pyplot as plt\n",
        "import numpy as np"
      ],
      "execution_count": null,
      "outputs": []
    },
    {
      "cell_type": "code",
      "metadata": {
        "colab": {
          "base_uri": "https://localhost:8080/",
          "height": 310
        },
        "id": "0VkrUCArw6j4",
        "outputId": "529df822-9d14-474c-a829-1910c1ed9f15"
      },
      "source": [
        "df = pd.read_excel('/content/Coffee.xlsx')\n",
        "df.head()"
      ],
      "execution_count": null,
      "outputs": [
        {
          "output_type": "execute_result",
          "data": {
            "text/html": [
              "<div>\n",
              "<style scoped>\n",
              "    .dataframe tbody tr th:only-of-type {\n",
              "        vertical-align: middle;\n",
              "    }\n",
              "\n",
              "    .dataframe tbody tr th {\n",
              "        vertical-align: top;\n",
              "    }\n",
              "\n",
              "    .dataframe thead th {\n",
              "        text-align: right;\n",
              "    }\n",
              "</style>\n",
              "<table border=\"1\" class=\"dataframe\">\n",
              "  <thead>\n",
              "    <tr style=\"text-align: right;\">\n",
              "      <th></th>\n",
              "      <th>Area Code</th>\n",
              "      <th>Date</th>\n",
              "      <th>Market</th>\n",
              "      <th>Market Size</th>\n",
              "      <th>Product</th>\n",
              "      <th>Product Line</th>\n",
              "      <th>Product Type</th>\n",
              "      <th>State</th>\n",
              "      <th>Type</th>\n",
              "      <th>Budget COGS</th>\n",
              "      <th>Budget Margin</th>\n",
              "      <th>Budget Profit</th>\n",
              "      <th>Budget Sales</th>\n",
              "      <th>COGS</th>\n",
              "      <th>Inventory</th>\n",
              "      <th>Margin</th>\n",
              "      <th>Marketing</th>\n",
              "      <th>Profit</th>\n",
              "      <th>Sales</th>\n",
              "      <th>Total Expenses</th>\n",
              "    </tr>\n",
              "  </thead>\n",
              "  <tbody>\n",
              "    <tr>\n",
              "      <th>0</th>\n",
              "      <td>719</td>\n",
              "      <td>40909</td>\n",
              "      <td>Central</td>\n",
              "      <td>Major Market</td>\n",
              "      <td>Amaretto</td>\n",
              "      <td>Beans</td>\n",
              "      <td>Coffee</td>\n",
              "      <td>Colorado</td>\n",
              "      <td>Regular</td>\n",
              "      <td>90</td>\n",
              "      <td>130</td>\n",
              "      <td>100</td>\n",
              "      <td>220</td>\n",
              "      <td>89</td>\n",
              "      <td>777</td>\n",
              "      <td>130</td>\n",
              "      <td>24</td>\n",
              "      <td>94</td>\n",
              "      <td>219</td>\n",
              "      <td>36</td>\n",
              "    </tr>\n",
              "    <tr>\n",
              "      <th>1</th>\n",
              "      <td>970</td>\n",
              "      <td>40909</td>\n",
              "      <td>Central</td>\n",
              "      <td>Major Market</td>\n",
              "      <td>Colombian</td>\n",
              "      <td>Beans</td>\n",
              "      <td>Coffee</td>\n",
              "      <td>Colorado</td>\n",
              "      <td>Regular</td>\n",
              "      <td>80</td>\n",
              "      <td>110</td>\n",
              "      <td>80</td>\n",
              "      <td>190</td>\n",
              "      <td>83</td>\n",
              "      <td>623</td>\n",
              "      <td>107</td>\n",
              "      <td>27</td>\n",
              "      <td>68</td>\n",
              "      <td>190</td>\n",
              "      <td>39</td>\n",
              "    </tr>\n",
              "    <tr>\n",
              "      <th>2</th>\n",
              "      <td>970</td>\n",
              "      <td>40909</td>\n",
              "      <td>Central</td>\n",
              "      <td>Major Market</td>\n",
              "      <td>Decaf Irish Cream</td>\n",
              "      <td>Beans</td>\n",
              "      <td>Coffee</td>\n",
              "      <td>Colorado</td>\n",
              "      <td>Decaf</td>\n",
              "      <td>100</td>\n",
              "      <td>140</td>\n",
              "      <td>110</td>\n",
              "      <td>240</td>\n",
              "      <td>95</td>\n",
              "      <td>821</td>\n",
              "      <td>139</td>\n",
              "      <td>26</td>\n",
              "      <td>101</td>\n",
              "      <td>234</td>\n",
              "      <td>38</td>\n",
              "    </tr>\n",
              "    <tr>\n",
              "      <th>3</th>\n",
              "      <td>303</td>\n",
              "      <td>40909</td>\n",
              "      <td>Central</td>\n",
              "      <td>Major Market</td>\n",
              "      <td>Green Tea</td>\n",
              "      <td>Leaves</td>\n",
              "      <td>Tea</td>\n",
              "      <td>Colorado</td>\n",
              "      <td>Regular</td>\n",
              "      <td>30</td>\n",
              "      <td>50</td>\n",
              "      <td>30</td>\n",
              "      <td>80</td>\n",
              "      <td>44</td>\n",
              "      <td>623</td>\n",
              "      <td>56</td>\n",
              "      <td>14</td>\n",
              "      <td>30</td>\n",
              "      <td>100</td>\n",
              "      <td>26</td>\n",
              "    </tr>\n",
              "    <tr>\n",
              "      <th>4</th>\n",
              "      <td>303</td>\n",
              "      <td>40909</td>\n",
              "      <td>Central</td>\n",
              "      <td>Major Market</td>\n",
              "      <td>Caffe Mocha</td>\n",
              "      <td>Beans</td>\n",
              "      <td>Espresso</td>\n",
              "      <td>Colorado</td>\n",
              "      <td>Regular</td>\n",
              "      <td>60</td>\n",
              "      <td>90</td>\n",
              "      <td>70</td>\n",
              "      <td>150</td>\n",
              "      <td>54</td>\n",
              "      <td>456</td>\n",
              "      <td>80</td>\n",
              "      <td>15</td>\n",
              "      <td>54</td>\n",
              "      <td>134</td>\n",
              "      <td>26</td>\n",
              "    </tr>\n",
              "  </tbody>\n",
              "</table>\n",
              "</div>"
            ],
            "text/plain": [
              "   Area Code   Date   Market  ... Profit Sales Total Expenses\n",
              "0        719  40909  Central  ...     94   219             36\n",
              "1        970  40909  Central  ...     68   190             39\n",
              "2        970  40909  Central  ...    101   234             38\n",
              "3        303  40909  Central  ...     30   100             26\n",
              "4        303  40909  Central  ...     54   134             26\n",
              "\n",
              "[5 rows x 20 columns]"
            ]
          },
          "metadata": {
            "tags": []
          },
          "execution_count": 32
        }
      ]
    },
    {
      "cell_type": "markdown",
      "metadata": {
        "id": "pw7cow9Uw6j5"
      },
      "source": [
        "### 2) Remove handle null values"
      ]
    },
    {
      "cell_type": "code",
      "metadata": {
        "colab": {
          "base_uri": "https://localhost:8080/"
        },
        "id": "OFr5KNnBw6j5",
        "outputId": "cc4b495d-e4bd-470c-9360-b1db6a9ff277"
      },
      "source": [
        "df.isnull().sum()\n",
        "# fillna()\n",
        "# dropna()"
      ],
      "execution_count": null,
      "outputs": [
        {
          "output_type": "execute_result",
          "data": {
            "text/plain": [
              "Area Code         0\n",
              "Date              0\n",
              "Market            0\n",
              "Market Size       0\n",
              "Product           0\n",
              "Product Line      0\n",
              "Product Type      0\n",
              "State             0\n",
              "Type              0\n",
              "Budget COGS       0\n",
              "Budget Margin     0\n",
              "Budget Profit     0\n",
              "Budget Sales      0\n",
              "COGS              0\n",
              "Inventory         0\n",
              "Margin            0\n",
              "Marketing         0\n",
              "Profit            0\n",
              "Sales             0\n",
              "Total Expenses    0\n",
              "dtype: int64"
            ]
          },
          "metadata": {
            "tags": []
          },
          "execution_count": 33
        }
      ]
    },
    {
      "cell_type": "markdown",
      "metadata": {
        "id": "ltUtFTEQw6j6"
      },
      "source": [
        "### 3) Depict different Market types and their count on a bar chart"
      ]
    },
    {
      "cell_type": "code",
      "metadata": {
        "colab": {
          "base_uri": "https://localhost:8080/"
        },
        "id": "_1cS9ol_w6j6",
        "outputId": "d9ec600e-bfad-4c13-fc6f-1332b60be5d6"
      },
      "source": [
        "d1 = df['Market'].value_counts()\n",
        "d1"
      ],
      "execution_count": null,
      "outputs": [
        {
          "output_type": "execute_result",
          "data": {
            "text/plain": [
              "Central    1344\n",
              "West       1344\n",
              "East        888\n",
              "South       672\n",
              "Name: Market, dtype: int64"
            ]
          },
          "metadata": {
            "tags": []
          },
          "execution_count": 34
        }
      ]
    },
    {
      "cell_type": "code",
      "metadata": {
        "colab": {
          "base_uri": "https://localhost:8080/",
          "height": 268
        },
        "id": "2xKq_b8zw6j7",
        "outputId": "20c436e1-a2c5-4221-aa68-f9a30ffd3a4b"
      },
      "source": [
        "plt.bar(d1.index,d1)\n",
        "plt.show()"
      ],
      "execution_count": null,
      "outputs": [
        {
          "output_type": "display_data",
          "data": {
            "image/png": "[encoded data removed]",
            "text/plain": [
              "<Figure size 432x288 with 1 Axes>"
            ]
          },
          "metadata": {
            "tags": [],
            "needs_background": "light"
          }
        }
      ]
    },
    {
      "cell_type": "markdown",
      "metadata": {
        "id": "zlD9uAQKw6j8"
      },
      "source": [
        "### 6) Depict Market wise sum of Profit and depict the result on bar chart."
      ]
    },
    {
      "cell_type": "code",
      "metadata": {
        "colab": {
          "base_uri": "https://localhost:8080/"
        },
        "id": "PNesPIwcw6j8",
        "outputId": "22cc515a-cc0a-46cc-a827-cd59cf38e29f"
      },
      "source": [
        "d2 = df.groupby(['Market'])['Profit'].sum()\n",
        "d2"
      ],
      "execution_count": null,
      "outputs": [
        {
          "output_type": "execute_result",
          "data": {
            "text/plain": [
              "Market\n",
              "Central    93852\n",
              "East       59217\n",
              "South      32478\n",
              "West       73996\n",
              "Name: Profit, dtype: int64"
            ]
          },
          "metadata": {
            "tags": []
          },
          "execution_count": 36
        }
      ]
    },
    {
      "cell_type": "code",
      "metadata": {
        "colab": {
          "base_uri": "https://localhost:8080/"
        },
        "id": "2uFmum6rw6j9",
        "outputId": "c347c22a-93cd-4173-bb91-222c88a797f9"
      },
      "source": [
        "type(d2)"
      ],
      "execution_count": null,
      "outputs": [
        {
          "output_type": "execute_result",
          "data": {
            "text/plain": [
              "pandas.core.series.Series"
            ]
          },
          "metadata": {
            "tags": []
          },
          "execution_count": 37
        }
      ]
    },
    {
      "cell_type": "code",
      "metadata": {
        "colab": {
          "base_uri": "https://localhost:8080/",
          "height": 265
        },
        "id": "BxYWgWZjw6j9",
        "outputId": "c9ccf1b3-ac3f-437c-c099-029020b82e7f"
      },
      "source": [
        "plt.bar(d2.index,d2,color='maroon')\n",
        "plt.show()"
      ],
      "execution_count": null,
      "outputs": [
        {
          "output_type": "display_data",
          "data": {
            "image/png": "[encoded data removed]",
            "text/plain": [
              "<Figure size 432x288 with 1 Axes>"
            ]
          },
          "metadata": {
            "tags": [],
            "needs_background": "light"
          }
        }
      ]
    },
    {
      "cell_type": "markdown",
      "metadata": {
        "id": "9ZaZ8daWw6j9"
      },
      "source": [
        "### 7) Depict Product wise mean of Sales and depict the result on bar chart and line chart superimposed"
      ]
    },
    {
      "cell_type": "code",
      "metadata": {
        "colab": {
          "base_uri": "https://localhost:8080/"
        },
        "id": "0LZP1HiFw6j-",
        "outputId": "1aa0a771-6e80-4ace-f309-b530f7f44d75"
      },
      "source": [
        "d3 = df.groupby(['Product'])['Sales'].mean()\n",
        "d3"
      ],
      "execution_count": null,
      "outputs": [
        {
          "output_type": "execute_result",
          "data": {
            "text/plain": [
              "Product\n",
              "Amaretto             136.817708\n",
              "Caffe Latte          166.199074\n",
              "Caffe Mocha          176.883333\n",
              "Chamomile            196.817708\n",
              "Colombian            267.314583\n",
              "Darjeeling           190.497396\n",
              "Decaf Espresso       191.573529\n",
              "Decaf Irish Cream    162.104167\n",
              "Earl Grey            231.847222\n",
              "Green Tea            114.062500\n",
              "Lemon                199.845833\n",
              "Mint                 185.989583\n",
              "Regular Espresso     333.763889\n",
              "Name: Sales, dtype: float64"
            ]
          },
          "metadata": {
            "tags": []
          },
          "execution_count": 39
        }
      ]
    },
    {
      "cell_type": "code",
      "metadata": {
        "colab": {
          "base_uri": "https://localhost:8080/",
          "height": 349
        },
        "id": "8RcB1Ucow6j-",
        "outputId": "3fc52415-2d7f-43ea-bef6-0801a209aab2"
      },
      "source": [
        "plt.bar(d3.index,d3,color='lightgreen')\n",
        "plt.plot(d3.index,d3,color='orange')\n",
        "plt.xticks(rotation=90)\n",
        "plt.show()"
      ],
      "execution_count": null,
      "outputs": [
        {
          "output_type": "display_data",
          "data": {
            "image/png": "[encoded data removed]",
            "text/plain": [
              "<Figure size 432x288 with 1 Axes>"
            ]
          },
          "metadata": {
            "tags": [],
            "needs_background": "light"
          }
        }
      ]
    },
    {
      "cell_type": "markdown",
      "metadata": {
        "id": "4tAOO2RIw6j-"
      },
      "source": [
        "### 8) Depcit Profit vs Sales on a Scatter Chart where Product is 'Regular Espresso'"
      ]
    },
    {
      "cell_type": "code",
      "metadata": {
        "colab": {
          "base_uri": "https://localhost:8080/"
        },
        "id": "CKmOxA5Sw6j-",
        "outputId": "1da32548-cdb5-4067-9bb8-658dd2d477b0"
      },
      "source": [
        "df['Product'].value_counts()"
      ],
      "execution_count": null,
      "outputs": [
        {
          "output_type": "execute_result",
          "data": {
            "text/plain": [
              "Lemon                480\n",
              "Caffe Mocha          480\n",
              "Colombian            480\n",
              "Decaf Espresso       408\n",
              "Chamomile            384\n",
              "Decaf Irish Cream    384\n",
              "Darjeeling           384\n",
              "Earl Grey            288\n",
              "Green Tea            288\n",
              "Caffe Latte          216\n",
              "Amaretto             192\n",
              "Mint                 192\n",
              "Regular Espresso      72\n",
              "Name: Product, dtype: int64"
            ]
          },
          "metadata": {
            "tags": []
          },
          "execution_count": 41
        }
      ]
    },
    {
      "cell_type": "code",
      "metadata": {
        "colab": {
          "base_uri": "https://localhost:8080/"
        },
        "id": "-roLFpUyw6j-",
        "outputId": "434ce61a-0d7e-44ef-ff6f-a4df0f298578"
      },
      "source": [
        "d4 = df[df['Product']=='Regular Espresso']\n",
        "d4.shape"
      ],
      "execution_count": null,
      "outputs": [
        {
          "output_type": "execute_result",
          "data": {
            "text/plain": [
              "(72, 20)"
            ]
          },
          "metadata": {
            "tags": []
          },
          "execution_count": 42
        }
      ]
    },
    {
      "cell_type": "code",
      "metadata": {
        "id": "sbv7DzR8w6j_",
        "colab": {
          "base_uri": "https://localhost:8080/",
          "height": 265
        },
        "outputId": "1775ff60-d637-4cd2-ff80-fcdeca73c1a0"
      },
      "source": [
        "plt.scatter(d4['Profit'],d4['Sales'],color='green',marker='*')\n",
        "plt.show()"
      ],
      "execution_count": null,
      "outputs": [
        {
          "output_type": "display_data",
          "data": {
            "image/png": "[encoded data removed]",
            "text/plain": [
              "<Figure size 432x288 with 1 Axes>"
            ]
          },
          "metadata": {
            "tags": [],
            "needs_background": "light"
          }
        }
      ]
    },
    {
      "cell_type": "markdown",
      "metadata": {
        "id": "O3opw7EVw6j_"
      },
      "source": [
        "### 9) Depict Budget Profit vs Budget Sales on a Scatter Chart where State is California and Product is 'Earl Grey'"
      ]
    },
    {
      "cell_type": "code",
      "metadata": {
        "id": "f5pxSX5tw6j_",
        "outputId": "5ec120f5-ff77-4c6f-941b-85008f91f528"
      },
      "source": [
        "df['State'].value_counts()"
      ],
      "execution_count": null,
      "outputs": [
        {
          "output_type": "execute_result",
          "data": {
            "text/plain": [
              "California       288\n",
              "Utah             288\n",
              "Oregon           264\n",
              "Nevada           264\n",
              "Colorado         264\n",
              "Washington       240\n",
              "Ohio             216\n",
              "Wisconsin        216\n",
              "Illinois         216\n",
              "Florida          216\n",
              "Missouri         216\n",
              "Iowa             216\n",
              "New York         192\n",
              "Oklahoma         168\n",
              "New Hampshire    168\n",
              "Louisiana        168\n",
              "Connecticut      168\n",
              "Texas            168\n",
              "New Mexico       168\n",
              "Massachusetts    144\n",
              "Name: State, dtype: int64"
            ]
          },
          "metadata": {
            "tags": []
          },
          "execution_count": 24
        }
      ]
    },
    {
      "cell_type": "code",
      "metadata": {
        "id": "XQhsLv1tw6kA",
        "outputId": "4a623926-5203-4053-c915-7bcc7b2dc005"
      },
      "source": [
        "df['Product'].value_counts()"
      ],
      "execution_count": null,
      "outputs": [
        {
          "output_type": "execute_result",
          "data": {
            "text/plain": [
              "Colombian            480\n",
              "Caffe Mocha          480\n",
              "Lemon                480\n",
              "Decaf Espresso       408\n",
              "Chamomile            384\n",
              "Decaf Irish Cream    384\n",
              "Darjeeling           384\n",
              "Green Tea            288\n",
              "Earl Grey            288\n",
              "Caffe Latte          216\n",
              "Mint                 192\n",
              "Amaretto             192\n",
              "Regular Espresso      72\n",
              "Name: Product, dtype: int64"
            ]
          },
          "metadata": {
            "tags": []
          },
          "execution_count": 25
        }
      ]
    },
    {
      "cell_type": "code",
      "metadata": {
        "id": "Dl8l0geFw6kA",
        "outputId": "35d6e2ab-ad08-4dd0-9f50-14fbb485f98e"
      },
      "source": [
        "d5 = df[(df['State']=='California') & (df['Product']=='Earl Grey')]\n",
        "d5.shape"
      ],
      "execution_count": null,
      "outputs": [
        {
          "output_type": "execute_result",
          "data": {
            "text/plain": [
              "(24, 20)"
            ]
          },
          "metadata": {
            "tags": []
          },
          "execution_count": 31
        }
      ]
    },
    {
      "cell_type": "code",
      "metadata": {
        "id": "3mCQKxcCw6kA",
        "outputId": "dc7bdf8a-9a2c-4670-df49-6b20cd6d0c6e"
      },
      "source": [
        "d5[['State','Product','Budget Profit','Budget Sales']]"
      ],
      "execution_count": null,
      "outputs": [
        {
          "output_type": "execute_result",
          "data": {
            "text/html": [
              "<div>\n",
              "<style scoped>\n",
              "    .dataframe tbody tr th:only-of-type {\n",
              "        vertical-align: middle;\n",
              "    }\n",
              "\n",
              "    .dataframe tbody tr th {\n",
              "        vertical-align: top;\n",
              "    }\n",
              "\n",
              "    .dataframe thead th {\n",
              "        text-align: right;\n",
              "    }\n",
              "</style>\n",
              "<table border=\"1\" class=\"dataframe\">\n",
              "  <thead>\n",
              "    <tr style=\"text-align: right;\">\n",
              "      <th></th>\n",
              "      <th>State</th>\n",
              "      <th>Product</th>\n",
              "      <th>Budget Profit</th>\n",
              "      <th>Budget Sales</th>\n",
              "    </tr>\n",
              "  </thead>\n",
              "  <tbody>\n",
              "    <tr>\n",
              "      <th>140</th>\n",
              "      <td>California</td>\n",
              "      <td>Earl Grey</td>\n",
              "      <td>60</td>\n",
              "      <td>90</td>\n",
              "    </tr>\n",
              "    <tr>\n",
              "      <th>317</th>\n",
              "      <td>California</td>\n",
              "      <td>Earl Grey</td>\n",
              "      <td>60</td>\n",
              "      <td>120</td>\n",
              "    </tr>\n",
              "    <tr>\n",
              "      <th>495</th>\n",
              "      <td>California</td>\n",
              "      <td>Earl Grey</td>\n",
              "      <td>70</td>\n",
              "      <td>130</td>\n",
              "    </tr>\n",
              "    <tr>\n",
              "      <th>674</th>\n",
              "      <td>California</td>\n",
              "      <td>Earl Grey</td>\n",
              "      <td>70</td>\n",
              "      <td>130</td>\n",
              "    </tr>\n",
              "    <tr>\n",
              "      <th>851</th>\n",
              "      <td>California</td>\n",
              "      <td>Earl Grey</td>\n",
              "      <td>80</td>\n",
              "      <td>140</td>\n",
              "    </tr>\n",
              "    <tr>\n",
              "      <th>1027</th>\n",
              "      <td>California</td>\n",
              "      <td>Earl Grey</td>\n",
              "      <td>80</td>\n",
              "      <td>150</td>\n",
              "    </tr>\n",
              "    <tr>\n",
              "      <th>1201</th>\n",
              "      <td>California</td>\n",
              "      <td>Earl Grey</td>\n",
              "      <td>80</td>\n",
              "      <td>150</td>\n",
              "    </tr>\n",
              "    <tr>\n",
              "      <th>1378</th>\n",
              "      <td>California</td>\n",
              "      <td>Earl Grey</td>\n",
              "      <td>90</td>\n",
              "      <td>160</td>\n",
              "    </tr>\n",
              "    <tr>\n",
              "      <th>1555</th>\n",
              "      <td>California</td>\n",
              "      <td>Earl Grey</td>\n",
              "      <td>70</td>\n",
              "      <td>130</td>\n",
              "    </tr>\n",
              "    <tr>\n",
              "      <th>1730</th>\n",
              "      <td>California</td>\n",
              "      <td>Earl Grey</td>\n",
              "      <td>50</td>\n",
              "      <td>80</td>\n",
              "    </tr>\n",
              "    <tr>\n",
              "      <th>1907</th>\n",
              "      <td>California</td>\n",
              "      <td>Earl Grey</td>\n",
              "      <td>40</td>\n",
              "      <td>80</td>\n",
              "    </tr>\n",
              "    <tr>\n",
              "      <th>2084</th>\n",
              "      <td>California</td>\n",
              "      <td>Earl Grey</td>\n",
              "      <td>50</td>\n",
              "      <td>90</td>\n",
              "    </tr>\n",
              "    <tr>\n",
              "      <th>2261</th>\n",
              "      <td>California</td>\n",
              "      <td>Earl Grey</td>\n",
              "      <td>60</td>\n",
              "      <td>90</td>\n",
              "    </tr>\n",
              "    <tr>\n",
              "      <th>2438</th>\n",
              "      <td>California</td>\n",
              "      <td>Earl Grey</td>\n",
              "      <td>60</td>\n",
              "      <td>120</td>\n",
              "    </tr>\n",
              "    <tr>\n",
              "      <th>2615</th>\n",
              "      <td>California</td>\n",
              "      <td>Earl Grey</td>\n",
              "      <td>70</td>\n",
              "      <td>130</td>\n",
              "    </tr>\n",
              "    <tr>\n",
              "      <th>2792</th>\n",
              "      <td>California</td>\n",
              "      <td>Earl Grey</td>\n",
              "      <td>70</td>\n",
              "      <td>130</td>\n",
              "    </tr>\n",
              "    <tr>\n",
              "      <th>2969</th>\n",
              "      <td>California</td>\n",
              "      <td>Earl Grey</td>\n",
              "      <td>80</td>\n",
              "      <td>140</td>\n",
              "    </tr>\n",
              "    <tr>\n",
              "      <th>3146</th>\n",
              "      <td>California</td>\n",
              "      <td>Earl Grey</td>\n",
              "      <td>80</td>\n",
              "      <td>150</td>\n",
              "    </tr>\n",
              "    <tr>\n",
              "      <th>3319</th>\n",
              "      <td>California</td>\n",
              "      <td>Earl Grey</td>\n",
              "      <td>80</td>\n",
              "      <td>150</td>\n",
              "    </tr>\n",
              "    <tr>\n",
              "      <th>3497</th>\n",
              "      <td>California</td>\n",
              "      <td>Earl Grey</td>\n",
              "      <td>90</td>\n",
              "      <td>160</td>\n",
              "    </tr>\n",
              "    <tr>\n",
              "      <th>3674</th>\n",
              "      <td>California</td>\n",
              "      <td>Earl Grey</td>\n",
              "      <td>70</td>\n",
              "      <td>130</td>\n",
              "    </tr>\n",
              "    <tr>\n",
              "      <th>3851</th>\n",
              "      <td>California</td>\n",
              "      <td>Earl Grey</td>\n",
              "      <td>50</td>\n",
              "      <td>80</td>\n",
              "    </tr>\n",
              "    <tr>\n",
              "      <th>4028</th>\n",
              "      <td>California</td>\n",
              "      <td>Earl Grey</td>\n",
              "      <td>40</td>\n",
              "      <td>80</td>\n",
              "    </tr>\n",
              "    <tr>\n",
              "      <th>4205</th>\n",
              "      <td>California</td>\n",
              "      <td>Earl Grey</td>\n",
              "      <td>50</td>\n",
              "      <td>90</td>\n",
              "    </tr>\n",
              "  </tbody>\n",
              "</table>\n",
              "</div>"
            ],
            "text/plain": [
              "           State    Product  Budget Profit  Budget Sales\n",
              "140   California  Earl Grey             60            90\n",
              "317   California  Earl Grey             60           120\n",
              "495   California  Earl Grey             70           130\n",
              "674   California  Earl Grey             70           130\n",
              "851   California  Earl Grey             80           140\n",
              "1027  California  Earl Grey             80           150\n",
              "1201  California  Earl Grey             80           150\n",
              "1378  California  Earl Grey             90           160\n",
              "1555  California  Earl Grey             70           130\n",
              "1730  California  Earl Grey             50            80\n",
              "1907  California  Earl Grey             40            80\n",
              "2084  California  Earl Grey             50            90\n",
              "2261  California  Earl Grey             60            90\n",
              "2438  California  Earl Grey             60           120\n",
              "2615  California  Earl Grey             70           130\n",
              "2792  California  Earl Grey             70           130\n",
              "2969  California  Earl Grey             80           140\n",
              "3146  California  Earl Grey             80           150\n",
              "3319  California  Earl Grey             80           150\n",
              "3497  California  Earl Grey             90           160\n",
              "3674  California  Earl Grey             70           130\n",
              "3851  California  Earl Grey             50            80\n",
              "4028  California  Earl Grey             40            80\n",
              "4205  California  Earl Grey             50            90"
            ]
          },
          "metadata": {
            "tags": []
          },
          "execution_count": 35
        }
      ]
    },
    {
      "cell_type": "code",
      "metadata": {
        "id": "xR24fWhsw6kA",
        "outputId": "9eb4d36f-6b26-4632-a24c-032862de8e8e"
      },
      "source": [
        "plt.scatter(d5['Budget Profit'],d5['Budget Sales'],color='orange',marker='*')\n",
        "plt.show()"
      ],
      "execution_count": null,
      "outputs": [
        {
          "output_type": "display_data",
          "data": {
            "image/png": "[encoded data removed]",
            "text/plain": [
              "<Figure size 432x288 with 1 Axes>"
            ]
          },
          "metadata": {
            "tags": []
          }
        }
      ]
    },
    {
      "cell_type": "markdown",
      "metadata": {
        "id": "0veepT4ow6kB"
      },
      "source": [
        "### 10) Depict Market wise mean of Budget Sales and mean of Sales in a stacked bar chart"
      ]
    },
    {
      "cell_type": "code",
      "metadata": {
        "id": "I7w9slxDw6kB",
        "outputId": "c12f9b46-e487-46eb-ece9-8c061d969339"
      },
      "source": [
        "d6 = df.groupby(['Market'])['Budget Sales'].mean()\n",
        "d7 = df.groupby(['Market'])['Sales'].mean()\n",
        "print(d6.shape)\n",
        "print(d7.shape)"
      ],
      "execution_count": null,
      "outputs": [
        {
          "output_type": "stream",
          "text": [
            "(4,)\n",
            "(4,)\n"
          ],
          "name": "stdout"
        }
      ]
    },
    {
      "cell_type": "code",
      "metadata": {
        "id": "x46nHsdEw6kB",
        "outputId": "8c3d0d65-da9d-4316-bb48-e8d356f11492"
      },
      "source": [
        "d6"
      ],
      "execution_count": null,
      "outputs": [
        {
          "output_type": "execute_result",
          "data": {
            "text/plain": [
              "Market\n",
              "Central    186.279762\n",
              "East       177.815315\n",
              "South      146.130952\n",
              "West       178.348214\n",
              "Name: Budget Sales, dtype: float64"
            ]
          },
          "metadata": {
            "tags": []
          },
          "execution_count": 37
        }
      ]
    },
    {
      "cell_type": "code",
      "metadata": {
        "id": "oyRqWom8w6kC",
        "outputId": "4a08a797-1c85-4607-c3fb-34409daee83c"
      },
      "source": [
        "d7"
      ],
      "execution_count": null,
      "outputs": [
        {
          "output_type": "execute_result",
          "data": {
            "text/plain": [
              "Market\n",
              "Central    197.206101\n",
              "East       201.099099\n",
              "South      154.651786\n",
              "West       202.577381\n",
              "Name: Sales, dtype: float64"
            ]
          },
          "metadata": {
            "tags": []
          },
          "execution_count": 38
        }
      ]
    },
    {
      "cell_type": "code",
      "metadata": {
        "id": "UbECeSdgw6kC",
        "outputId": "83b9b631-782c-4d6e-fe32-44d9c0d86963"
      },
      "source": [
        "plt.bar(d7.index,d7,color='lightblue',label='Market wise Sales')\n",
        "plt.bar(d6.index,d6,color='green',label='Market wise Budget Sales')\n",
        "plt.legend()\n",
        "plt.show()"
      ],
      "execution_count": null,
      "outputs": [
        {
          "output_type": "display_data",
          "data": {
            "image/png": "[encoded data removed]",
            "text/plain": [
              "<Figure size 432x288 with 1 Axes>"
            ]
          },
          "metadata": {
            "tags": []
          }
        }
      ]
    },
    {
      "cell_type": "code",
      "metadata": {
        "id": "S-f0En0qw6kC"
      },
      "source": [
        ""
      ],
      "execution_count": null,
      "outputs": []
    },
    {
      "cell_type": "code",
      "metadata": {
        "id": "vazl5pztw6kC"
      },
      "source": [
        ""
      ],
      "execution_count": null,
      "outputs": []
    },
    {
      "cell_type": "markdown",
      "metadata": {
        "id": "1u6-j7vAw6kD"
      },
      "source": [
        "###  22) Depict Market and Type wise sum of Budget Profit on a bar chart"
      ]
    },
    {
      "cell_type": "code",
      "metadata": {
        "id": "G7NjB2ijw6kD",
        "colab": {
          "base_uri": "https://localhost:8080/",
          "height": 162
        },
        "outputId": "7ead974a-e46f-4bd0-e07b-600ab0091e5f"
      },
      "source": [
        "df.columns"
      ],
      "execution_count": null,
      "outputs": [
        {
          "output_type": "error",
          "ename": "NameError",
          "evalue": "ignored",
          "traceback": [
            "\u001b[0;31m---------------------------------------------------------------------------\u001b[0m",
            "\u001b[0;31mNameError\u001b[0m                                 Traceback (most recent call last)",
            "\u001b[0;32m<ipython-input-1-b666bf274d0a>\u001b[0m in \u001b[0;36m<module>\u001b[0;34m()\u001b[0m\n\u001b[0;32m----> 1\u001b[0;31m \u001b[0mdf\u001b[0m\u001b[0;34m.\u001b[0m\u001b[0mcolumns\u001b[0m\u001b[0;34m\u001b[0m\u001b[0;34m\u001b[0m\u001b[0m\n\u001b[0m",
            "\u001b[0;31mNameError\u001b[0m: name 'df' is not defined"
          ]
        }
      ]
    },
    {
      "cell_type": "code",
      "metadata": {
        "id": "Tz6bk-KLw6kD",
        "colab": {
          "base_uri": "https://localhost:8080/",
          "height": 178
        },
        "outputId": "17127908-c1f9-44e7-aae2-7022146edc59"
      },
      "source": [
        "d8 = df.groupby(['Market','Type'])['Budget Profit'].sum()\n",
        "d8"
      ],
      "execution_count": null,
      "outputs": [
        {
          "output_type": "error",
          "ename": "NameError",
          "evalue": "ignored",
          "traceback": [
            "\u001b[0;31m---------------------------------------------------------------------------\u001b[0m",
            "\u001b[0;31mNameError\u001b[0m                                 Traceback (most recent call last)",
            "\u001b[0;32m<ipython-input-2-4bc9b1c94429>\u001b[0m in \u001b[0;36m<module>\u001b[0;34m()\u001b[0m\n\u001b[0;32m----> 1\u001b[0;31m \u001b[0md8\u001b[0m \u001b[0;34m=\u001b[0m \u001b[0mdf\u001b[0m\u001b[0;34m.\u001b[0m\u001b[0mgroupby\u001b[0m\u001b[0;34m(\u001b[0m\u001b[0;34m[\u001b[0m\u001b[0;34m'Market'\u001b[0m\u001b[0;34m,\u001b[0m\u001b[0;34m'Type'\u001b[0m\u001b[0;34m]\u001b[0m\u001b[0;34m)\u001b[0m\u001b[0;34m[\u001b[0m\u001b[0;34m'Budget Profit'\u001b[0m\u001b[0;34m]\u001b[0m\u001b[0;34m.\u001b[0m\u001b[0msum\u001b[0m\u001b[0;34m(\u001b[0m\u001b[0;34m)\u001b[0m\u001b[0;34m\u001b[0m\u001b[0;34m\u001b[0m\u001b[0m\n\u001b[0m\u001b[1;32m      2\u001b[0m \u001b[0md8\u001b[0m\u001b[0;34m\u001b[0m\u001b[0;34m\u001b[0m\u001b[0m\n",
            "\u001b[0;31mNameError\u001b[0m: name 'df' is not defined"
          ]
        }
      ]
    },
    {
      "cell_type": "code",
      "metadata": {
        "id": "A4lN5i8Ww6kD"
      },
      "source": [
        "print(d8.index)\n",
        "print(d8.values)"
      ],
      "execution_count": null,
      "outputs": []
    },
    {
      "cell_type": "code",
      "metadata": {
        "id": "jL0btfYUw6kD"
      },
      "source": [
        "plt.bar(d8.index,d8.values)\n",
        "plt.show()"
      ],
      "execution_count": null,
      "outputs": []
    },
    {
      "cell_type": "code",
      "metadata": {
        "id": "-QeJF0yew6kE"
      },
      "source": [
        "d8.plot(kind='bar',color='maroon')\n",
        "plt.show()"
      ],
      "execution_count": null,
      "outputs": []
    },
    {
      "cell_type": "code",
      "metadata": {
        "id": "mJFcpf0Jw6kE"
      },
      "source": [
        "d6"
      ],
      "execution_count": null,
      "outputs": []
    },
    {
      "cell_type": "code",
      "metadata": {
        "id": "tmm5l9sTw6kE"
      },
      "source": [
        "w = dict(d6)\n",
        "w"
      ],
      "execution_count": null,
      "outputs": []
    },
    {
      "cell_type": "code",
      "metadata": {
        "id": "Xs8FogNpw6kE"
      },
      "source": [
        "plt.bar(w.keys(),w.values())"
      ],
      "execution_count": null,
      "outputs": []
    },
    {
      "cell_type": "markdown",
      "metadata": {
        "id": "DC5o1my0w6kE"
      },
      "source": [
        "### 24) Depict Product and Type wise sum of Budget COGS on a line Chart"
      ]
    },
    {
      "cell_type": "code",
      "metadata": {
        "id": "hg23C-qww6kF",
        "outputId": "d9bb41c5-9eba-45cd-d443-48780a6578f0"
      },
      "source": [
        "df.columns"
      ],
      "execution_count": null,
      "outputs": [
        {
          "output_type": "execute_result",
          "data": {
            "text/plain": [
              "Index(['Area Code', 'Date', 'Market', 'Market Size', 'Product', 'Product Line',\n",
              "       'Product Type', 'State', 'Type', 'Budget COGS', 'Budget Margin',\n",
              "       'Budget Profit', 'Budget Sales', 'COGS', 'Inventory', 'Margin',\n",
              "       'Marketing', 'Profit', 'Sales', 'Total Expenses'],\n",
              "      dtype='object')"
            ]
          },
          "metadata": {
            "tags": []
          },
          "execution_count": 58
        }
      ]
    },
    {
      "cell_type": "code",
      "metadata": {
        "id": "pe7RbNJgw6kF",
        "outputId": "016bba48-b46c-404c-eac6-7d7926073747"
      },
      "source": [
        "d9 = df.groupby(['Product','Type'])['Budget COGS'].sum()\n",
        "d9"
      ],
      "execution_count": null,
      "outputs": [
        {
          "output_type": "execute_result",
          "data": {
            "text/plain": [
              "Product            Type   \n",
              "Amaretto           Regular    13420\n",
              "Caffe Latte        Regular    12820\n",
              "Caffe Mocha        Regular    36820\n",
              "Chamomile          Decaf      25360\n",
              "Colombian          Regular    51240\n",
              "Darjeeling         Regular    22880\n",
              "Decaf Espresso     Decaf      31660\n",
              "Decaf Irish Cream  Decaf      32220\n",
              "Earl Grey          Regular    21040\n",
              "Green Tea          Regular    13220\n",
              "Lemon              Decaf      32560\n",
              "Mint               Decaf      15140\n",
              "Regular Espresso   Regular     9500\n",
              "Name: Budget COGS, dtype: int64"
            ]
          },
          "metadata": {
            "tags": []
          },
          "execution_count": 60
        }
      ]
    },
    {
      "cell_type": "code",
      "metadata": {
        "id": "VAaMPMamw6kF",
        "outputId": "376e9375-619e-4c3f-8dce-bb194c30c405"
      },
      "source": [
        "d9.plot(kind='line',marker='*',color='maroon')\n",
        "plt.xticks(rotation=90)\n",
        "plt.show()"
      ],
      "execution_count": null,
      "outputs": [
        {
          "output_type": "display_data",
          "data": {
            "image/png": "[encoded data removed]",
            "text/plain": [
              "<Figure size 432x288 with 1 Axes>"
            ]
          },
          "metadata": {
            "tags": []
          }
        }
      ]
    },
    {
      "cell_type": "markdown",
      "metadata": {
        "id": "jIUv4OdYw6kF"
      },
      "source": [
        "### 25) Depict Product and Type wise sum of Budget Profit and Budget Sales on a line Chart"
      ]
    },
    {
      "cell_type": "code",
      "metadata": {
        "id": "0L4FVVlvw6kG",
        "outputId": "4efc4f1c-9313-414d-ee3e-6d83fc174cd6"
      },
      "source": [
        "d10 = df.groupby([\"Product\",'Type'])['Budget Profit','Budget Sales'].sum()\n",
        "d10"
      ],
      "execution_count": null,
      "outputs": [
        {
          "output_type": "stream",
          "text": [
            "E:\\Users\\lenovo\\Anaconda3\\lib\\site-packages\\ipykernel_launcher.py:1: FutureWarning: Indexing with multiple keys (implicitly converted to a tuple of keys) will be deprecated, use a list instead.\n",
            "  \"\"\"Entry point for launching an IPython kernel.\n"
          ],
          "name": "stderr"
        },
        {
          "output_type": "execute_result",
          "data": {
            "text/html": [
              "<div>\n",
              "<style scoped>\n",
              "    .dataframe tbody tr th:only-of-type {\n",
              "        vertical-align: middle;\n",
              "    }\n",
              "\n",
              "    .dataframe tbody tr th {\n",
              "        vertical-align: top;\n",
              "    }\n",
              "\n",
              "    .dataframe thead th {\n",
              "        text-align: right;\n",
              "    }\n",
              "</style>\n",
              "<table border=\"1\" class=\"dataframe\">\n",
              "  <thead>\n",
              "    <tr style=\"text-align: right;\">\n",
              "      <th></th>\n",
              "      <th></th>\n",
              "      <th>Budget Profit</th>\n",
              "      <th>Budget Sales</th>\n",
              "    </tr>\n",
              "    <tr>\n",
              "      <th>Product</th>\n",
              "      <th>Type</th>\n",
              "      <th></th>\n",
              "      <th></th>\n",
              "    </tr>\n",
              "  </thead>\n",
              "  <tbody>\n",
              "    <tr>\n",
              "      <th>Amaretto</th>\n",
              "      <th>Regular</th>\n",
              "      <td>7020</td>\n",
              "      <td>27200</td>\n",
              "    </tr>\n",
              "    <tr>\n",
              "      <th>Caffe Latte</th>\n",
              "      <th>Regular</th>\n",
              "      <td>10100</td>\n",
              "      <td>30540</td>\n",
              "    </tr>\n",
              "    <tr>\n",
              "      <th>Caffe Mocha</th>\n",
              "      <th>Regular</th>\n",
              "      <td>23280</td>\n",
              "      <td>84600</td>\n",
              "    </tr>\n",
              "    <tr>\n",
              "      <th>Chamomile</th>\n",
              "      <th>Decaf</th>\n",
              "      <td>24920</td>\n",
              "      <td>63840</td>\n",
              "    </tr>\n",
              "    <tr>\n",
              "      <th>Colombian</th>\n",
              "      <th>Regular</th>\n",
              "      <td>57800</td>\n",
              "      <td>134380</td>\n",
              "    </tr>\n",
              "    <tr>\n",
              "      <th>Darjeeling</th>\n",
              "      <th>Regular</th>\n",
              "      <td>22860</td>\n",
              "      <td>57360</td>\n",
              "    </tr>\n",
              "    <tr>\n",
              "      <th>Decaf Espresso</th>\n",
              "      <th>Decaf</th>\n",
              "      <td>29460</td>\n",
              "      <td>75720</td>\n",
              "    </tr>\n",
              "    <tr>\n",
              "      <th>Decaf Irish Cream</th>\n",
              "      <th>Decaf</th>\n",
              "      <td>19060</td>\n",
              "      <td>67040</td>\n",
              "    </tr>\n",
              "    <tr>\n",
              "      <th>Earl Grey</th>\n",
              "      <th>Regular</th>\n",
              "      <td>17600</td>\n",
              "      <td>50900</td>\n",
              "    </tr>\n",
              "    <tr>\n",
              "      <th>Green Tea</th>\n",
              "      <th>Regular</th>\n",
              "      <td>3800</td>\n",
              "      <td>25340</td>\n",
              "    </tr>\n",
              "    <tr>\n",
              "      <th>Lemon</th>\n",
              "      <th>Decaf</th>\n",
              "      <td>27020</td>\n",
              "      <td>78300</td>\n",
              "    </tr>\n",
              "    <tr>\n",
              "      <th>Mint</th>\n",
              "      <th>Decaf</th>\n",
              "      <td>6780</td>\n",
              "      <td>28320</td>\n",
              "    </tr>\n",
              "    <tr>\n",
              "      <th>Regular Espresso</th>\n",
              "      <th>Regular</th>\n",
              "      <td>9060</td>\n",
              "      <td>22620</td>\n",
              "    </tr>\n",
              "  </tbody>\n",
              "</table>\n",
              "</div>"
            ],
            "text/plain": [
              "                           Budget Profit  Budget Sales\n",
              "Product           Type                                \n",
              "Amaretto          Regular           7020         27200\n",
              "Caffe Latte       Regular          10100         30540\n",
              "Caffe Mocha       Regular          23280         84600\n",
              "Chamomile         Decaf            24920         63840\n",
              "Colombian         Regular          57800        134380\n",
              "Darjeeling        Regular          22860         57360\n",
              "Decaf Espresso    Decaf            29460         75720\n",
              "Decaf Irish Cream Decaf            19060         67040\n",
              "Earl Grey         Regular          17600         50900\n",
              "Green Tea         Regular           3800         25340\n",
              "Lemon             Decaf            27020         78300\n",
              "Mint              Decaf             6780         28320\n",
              "Regular Espresso  Regular           9060         22620"
            ]
          },
          "metadata": {
            "tags": []
          },
          "execution_count": 66
        }
      ]
    },
    {
      "cell_type": "code",
      "metadata": {
        "id": "axaPvXnFw6kG",
        "outputId": "ee92b7a3-7b4f-4665-9137-d2d9d93b83a6"
      },
      "source": [
        "# plt.figure(figsize=(9,8))\n",
        "d10.plot(kind='line',color=['maroon','black'], figsize=(9,8))\n",
        "plt.xticks(rotation=90)\n",
        "plt.show()"
      ],
      "execution_count": null,
      "outputs": [
        {
          "output_type": "display_data",
          "data": {
            "image/png": "[encoded data removed]",
            "text/plain": [
              "<Figure size 648x576 with 1 Axes>"
            ]
          },
          "metadata": {
            "tags": []
          }
        }
      ]
    },
    {
      "cell_type": "markdown",
      "metadata": {
        "id": "ql99fnW-w6kG"
      },
      "source": [
        "### 26)  Depict Market and Product Type based mean of Sales on a bar chart and on a stacked bar chart separately"
      ]
    },
    {
      "cell_type": "code",
      "metadata": {
        "id": "AotT8pyUw6kG",
        "outputId": "c6f302e1-470d-4172-ea6e-27548955035c"
      },
      "source": [
        "df.columns"
      ],
      "execution_count": null,
      "outputs": [
        {
          "output_type": "execute_result",
          "data": {
            "text/plain": [
              "Index(['Area Code', 'Date', 'Market', 'Market Size', 'Product', 'Product Line',\n",
              "       'Product Type', 'State', 'Type', 'Budget COGS', 'Budget Margin',\n",
              "       'Budget Profit', 'Budget Sales', 'COGS', 'Inventory', 'Margin',\n",
              "       'Marketing', 'Profit', 'Sales', 'Total Expenses'],\n",
              "      dtype='object')"
            ]
          },
          "metadata": {
            "tags": []
          },
          "execution_count": 75
        }
      ]
    },
    {
      "cell_type": "code",
      "metadata": {
        "id": "Up73spa1w6kH",
        "outputId": "d010f3a1-3515-485c-c22c-3660d377afd5"
      },
      "source": [
        "d11 = df.groupby(['Market','Product Type'])['Sales'].mean()\n",
        "d11"
      ],
      "execution_count": null,
      "outputs": [
        {
          "output_type": "execute_result",
          "data": {
            "text/plain": [
              "Market   Product Type\n",
              "Central  Coffee          179.895833\n",
              "         Espresso        207.295139\n",
              "         Herbal Tea      202.047619\n",
              "         Tea             203.500000\n",
              "East     Coffee          337.148810\n",
              "         Espresso        201.654167\n",
              "         Herbal Tea      191.486111\n",
              "         Tea             121.882576\n",
              "South    Coffee          173.223958\n",
              "         Espresso        156.215278\n",
              "         Herbal Tea      133.734375\n",
              "West     Coffee          185.410256\n",
              "         Espresso        194.188889\n",
              "         Herbal Tea      231.692308\n",
              "         Tea             200.611111\n",
              "Name: Sales, dtype: float64"
            ]
          },
          "metadata": {
            "tags": []
          },
          "execution_count": 76
        }
      ]
    },
    {
      "cell_type": "code",
      "metadata": {
        "id": "CKXDJR7vw6kH",
        "outputId": "ea801ba8-159e-4986-863a-517567b0830a"
      },
      "source": [
        "d11.plot(kind='bar')\n",
        "plt.show()"
      ],
      "execution_count": null,
      "outputs": [
        {
          "output_type": "display_data",
          "data": {
            "image/png": "[encoded data removed]",
            "text/plain": [
              "<Figure size 432x288 with 1 Axes>"
            ]
          },
          "metadata": {
            "tags": []
          }
        }
      ]
    },
    {
      "cell_type": "code",
      "metadata": {
        "id": "lCcaFprhw6kH",
        "outputId": "28a689c0-222d-4480-957e-b21f89201f88"
      },
      "source": [
        "d11"
      ],
      "execution_count": null,
      "outputs": [
        {
          "output_type": "execute_result",
          "data": {
            "text/plain": [
              "Market   Product Type\n",
              "Central  Coffee          179.895833\n",
              "         Espresso        207.295139\n",
              "         Herbal Tea      202.047619\n",
              "         Tea             203.500000\n",
              "East     Coffee          337.148810\n",
              "         Espresso        201.654167\n",
              "         Herbal Tea      191.486111\n",
              "         Tea             121.882576\n",
              "South    Coffee          173.223958\n",
              "         Espresso        156.215278\n",
              "         Herbal Tea      133.734375\n",
              "West     Coffee          185.410256\n",
              "         Espresso        194.188889\n",
              "         Herbal Tea      231.692308\n",
              "         Tea             200.611111\n",
              "Name: Sales, dtype: float64"
            ]
          },
          "metadata": {
            "tags": []
          },
          "execution_count": 79
        }
      ]
    },
    {
      "cell_type": "code",
      "metadata": {
        "id": "g3RWjSWdw6kH",
        "outputId": "7ba7f14a-8d52-4493-93a2-d4d8da8ce7ad"
      },
      "source": [
        "d12 = d11.unstack()\n",
        "d12"
      ],
      "execution_count": null,
      "outputs": [
        {
          "output_type": "execute_result",
          "data": {
            "text/html": [
              "<div>\n",
              "<style scoped>\n",
              "    .dataframe tbody tr th:only-of-type {\n",
              "        vertical-align: middle;\n",
              "    }\n",
              "\n",
              "    .dataframe tbody tr th {\n",
              "        vertical-align: top;\n",
              "    }\n",
              "\n",
              "    .dataframe thead th {\n",
              "        text-align: right;\n",
              "    }\n",
              "</style>\n",
              "<table border=\"1\" class=\"dataframe\">\n",
              "  <thead>\n",
              "    <tr style=\"text-align: right;\">\n",
              "      <th>Product Type</th>\n",
              "      <th>Coffee</th>\n",
              "      <th>Espresso</th>\n",
              "      <th>Herbal Tea</th>\n",
              "      <th>Tea</th>\n",
              "    </tr>\n",
              "    <tr>\n",
              "      <th>Market</th>\n",
              "      <th></th>\n",
              "      <th></th>\n",
              "      <th></th>\n",
              "      <th></th>\n",
              "    </tr>\n",
              "  </thead>\n",
              "  <tbody>\n",
              "    <tr>\n",
              "      <th>Central</th>\n",
              "      <td>179.895833</td>\n",
              "      <td>207.295139</td>\n",
              "      <td>202.047619</td>\n",
              "      <td>203.500000</td>\n",
              "    </tr>\n",
              "    <tr>\n",
              "      <th>East</th>\n",
              "      <td>337.148810</td>\n",
              "      <td>201.654167</td>\n",
              "      <td>191.486111</td>\n",
              "      <td>121.882576</td>\n",
              "    </tr>\n",
              "    <tr>\n",
              "      <th>South</th>\n",
              "      <td>173.223958</td>\n",
              "      <td>156.215278</td>\n",
              "      <td>133.734375</td>\n",
              "      <td>NaN</td>\n",
              "    </tr>\n",
              "    <tr>\n",
              "      <th>West</th>\n",
              "      <td>185.410256</td>\n",
              "      <td>194.188889</td>\n",
              "      <td>231.692308</td>\n",
              "      <td>200.611111</td>\n",
              "    </tr>\n",
              "  </tbody>\n",
              "</table>\n",
              "</div>"
            ],
            "text/plain": [
              "Product Type      Coffee    Espresso  Herbal Tea         Tea\n",
              "Market                                                      \n",
              "Central       179.895833  207.295139  202.047619  203.500000\n",
              "East          337.148810  201.654167  191.486111  121.882576\n",
              "South         173.223958  156.215278  133.734375         NaN\n",
              "West          185.410256  194.188889  231.692308  200.611111"
            ]
          },
          "metadata": {
            "tags": []
          },
          "execution_count": 85
        }
      ]
    },
    {
      "cell_type": "code",
      "metadata": {
        "id": "xnp3pX7Ww6kH",
        "outputId": "8fbee804-f8b1-429a-c868-2fb294abaf5c"
      },
      "source": [
        "d12.plot(kind='bar',stacked=True)\n",
        "plt.grid()\n",
        "plt.show()"
      ],
      "execution_count": null,
      "outputs": [
        {
          "output_type": "display_data",
          "data": {
            "image/png": "[encoded data removed]",
            "text/plain": [
              "<Figure size 432x288 with 1 Axes>"
            ]
          },
          "metadata": {
            "tags": []
          }
        }
      ]
    },
    {
      "cell_type": "markdown",
      "metadata": {
        "id": "5t_OWhHRw6kI"
      },
      "source": [
        "### 27) Find State and Market Size based mean of Sales and COGS where Market is not Central and Profit is over 350. Depict the result on a line chart and stacked bar separately"
      ]
    },
    {
      "cell_type": "code",
      "metadata": {
        "id": "m9eF2gzAw6kI",
        "outputId": "db029d67-2d52-4abd-f379-89cfc1592c11"
      },
      "source": [
        "df['Market'].value_counts()"
      ],
      "execution_count": null,
      "outputs": [
        {
          "output_type": "execute_result",
          "data": {
            "text/plain": [
              "Central    1344\n",
              "West       1344\n",
              "East        888\n",
              "South       672\n",
              "Name: Market, dtype: int64"
            ]
          },
          "metadata": {
            "tags": []
          },
          "execution_count": 89
        }
      ]
    },
    {
      "cell_type": "code",
      "metadata": {
        "id": "WoDIai2Fw6kI",
        "outputId": "20e6cd0a-801a-4c1f-b92e-eaf4f6ad888d"
      },
      "source": [
        "d13 = df[(df['Market']!='Central') & (df['Profit']>350)]\n",
        "d13.shape"
      ],
      "execution_count": null,
      "outputs": [
        {
          "output_type": "execute_result",
          "data": {
            "text/plain": [
              "(65, 20)"
            ]
          },
          "metadata": {
            "tags": []
          },
          "execution_count": 95
        }
      ]
    },
    {
      "cell_type": "code",
      "metadata": {
        "id": "suuvfPNMw6kI",
        "outputId": "85cb3f70-e114-413e-bd07-a96da7099b16"
      },
      "source": [
        "d14 = d13.groupby(['State','Market Size'])['Sales','COGS'].mean()\n",
        "d14.shape"
      ],
      "execution_count": null,
      "outputs": [
        {
          "output_type": "stream",
          "text": [
            "E:\\Users\\lenovo\\Anaconda3\\lib\\site-packages\\ipykernel_launcher.py:1: FutureWarning: Indexing with multiple keys (implicitly converted to a tuple of keys) will be deprecated, use a list instead.\n",
            "  \"\"\"Entry point for launching an IPython kernel.\n"
          ],
          "name": "stderr"
        },
        {
          "output_type": "execute_result",
          "data": {
            "text/plain": [
              "(4, 2)"
            ]
          },
          "metadata": {
            "tags": []
          },
          "execution_count": 97
        }
      ]
    },
    {
      "cell_type": "code",
      "metadata": {
        "id": "o3xe3bd2w6kJ",
        "outputId": "27c65e3e-6c8f-47b5-d15c-9ac4737bafc0"
      },
      "source": [
        "d14"
      ],
      "execution_count": null,
      "outputs": [
        {
          "output_type": "execute_result",
          "data": {
            "text/html": [
              "<div>\n",
              "<style scoped>\n",
              "    .dataframe tbody tr th:only-of-type {\n",
              "        vertical-align: middle;\n",
              "    }\n",
              "\n",
              "    .dataframe tbody tr th {\n",
              "        vertical-align: top;\n",
              "    }\n",
              "\n",
              "    .dataframe thead th {\n",
              "        text-align: right;\n",
              "    }\n",
              "</style>\n",
              "<table border=\"1\" class=\"dataframe\">\n",
              "  <thead>\n",
              "    <tr style=\"text-align: right;\">\n",
              "      <th></th>\n",
              "      <th></th>\n",
              "      <th>Sales</th>\n",
              "      <th>COGS</th>\n",
              "    </tr>\n",
              "    <tr>\n",
              "      <th>State</th>\n",
              "      <th>Market Size</th>\n",
              "      <th></th>\n",
              "      <th></th>\n",
              "    </tr>\n",
              "  </thead>\n",
              "  <tbody>\n",
              "    <tr>\n",
              "      <th>California</th>\n",
              "      <th>Major Market</th>\n",
              "      <td>794.125000</td>\n",
              "      <td>312.125000</td>\n",
              "    </tr>\n",
              "    <tr>\n",
              "      <th>Massachusetts</th>\n",
              "      <th>Major Market</th>\n",
              "      <td>566.809524</td>\n",
              "      <td>64.000000</td>\n",
              "    </tr>\n",
              "    <tr>\n",
              "      <th>Nevada</th>\n",
              "      <th>Small Market</th>\n",
              "      <td>676.500000</td>\n",
              "      <td>293.000000</td>\n",
              "    </tr>\n",
              "    <tr>\n",
              "      <th>New York</th>\n",
              "      <th>Major Market</th>\n",
              "      <td>770.461538</td>\n",
              "      <td>285.038462</td>\n",
              "    </tr>\n",
              "  </tbody>\n",
              "</table>\n",
              "</div>"
            ],
            "text/plain": [
              "                                 Sales        COGS\n",
              "State         Market Size                         \n",
              "California    Major Market  794.125000  312.125000\n",
              "Massachusetts Major Market  566.809524   64.000000\n",
              "Nevada        Small Market  676.500000  293.000000\n",
              "New York      Major Market  770.461538  285.038462"
            ]
          },
          "metadata": {
            "tags": []
          },
          "execution_count": 98
        }
      ]
    },
    {
      "cell_type": "code",
      "metadata": {
        "id": "xmZWJwEkw6kJ",
        "outputId": "e1fc7b5d-a273-4ef0-9f0e-9ecdcd87ee6f"
      },
      "source": [
        "d14.plot(kind='bar',stacked=True)\n",
        "plt.show()"
      ],
      "execution_count": null,
      "outputs": [
        {
          "output_type": "display_data",
          "data": {
            "image/png": "[encoded data removed]",
            "text/plain": [
              "<Figure size 432x288 with 1 Axes>"
            ]
          },
          "metadata": {
            "tags": []
          }
        }
      ]
    },
    {
      "cell_type": "code",
      "metadata": {
        "id": "F8JX3EfHw6kJ",
        "outputId": "2084c92a-0308-48b3-ca62-337c4b3b5b61"
      },
      "source": [
        "d14.plot(kind='line',marker='d')\n",
        "plt.xticks(rotation=90)\n",
        "plt.show()"
      ],
      "execution_count": null,
      "outputs": [
        {
          "output_type": "display_data",
          "data": {
            "image/png": "[encoded data removed]",
            "text/plain": [
              "<Figure size 432x288 with 1 Axes>"
            ]
          },
          "metadata": {
            "tags": []
          }
        }
      ]
    },
    {
      "cell_type": "markdown",
      "metadata": {
        "id": "qfCO4XAcw6kJ"
      },
      "source": [
        "### 6) Seaborn - Depict the Market vs Budget Sales on a Violin Plot based on Product Type where product is Colombian or Darjeeling"
      ]
    },
    {
      "cell_type": "code",
      "metadata": {
        "id": "Oz5KUdQtw6kJ",
        "outputId": "d6c9a2be-0f51-403a-dbfb-f53a2b94498d"
      },
      "source": [
        "df['Product'].value_counts()"
      ],
      "execution_count": null,
      "outputs": [
        {
          "output_type": "execute_result",
          "data": {
            "text/plain": [
              "Colombian            480\n",
              "Caffe Mocha          480\n",
              "Lemon                480\n",
              "Decaf Espresso       408\n",
              "Chamomile            384\n",
              "Decaf Irish Cream    384\n",
              "Darjeeling           384\n",
              "Green Tea            288\n",
              "Earl Grey            288\n",
              "Caffe Latte          216\n",
              "Mint                 192\n",
              "Amaretto             192\n",
              "Regular Espresso      72\n",
              "Name: Product, dtype: int64"
            ]
          },
          "metadata": {
            "tags": []
          },
          "execution_count": 108
        }
      ]
    },
    {
      "cell_type": "code",
      "metadata": {
        "id": "5vwp2kK7w6kK",
        "outputId": "2562b2e2-6579-4c61-f432-ae456dc3c786"
      },
      "source": [
        "df['Product Type'].value_counts()"
      ],
      "execution_count": null,
      "outputs": [
        {
          "output_type": "execute_result",
          "data": {
            "text/plain": [
              "Espresso      1176\n",
              "Coffee        1056\n",
              "Herbal Tea    1056\n",
              "Tea            960\n",
              "Name: Product Type, dtype: int64"
            ]
          },
          "metadata": {
            "tags": []
          },
          "execution_count": 112
        }
      ]
    },
    {
      "cell_type": "code",
      "metadata": {
        "id": "7-tOEcd0w6kK",
        "outputId": "4afe6ec7-e015-428b-b7f9-d19e6a916795"
      },
      "source": [
        "d15 = df[(df['Product']=='Colombian') | (df['Product']=='Darjeeling')]\n",
        "d15.shape"
      ],
      "execution_count": null,
      "outputs": [
        {
          "output_type": "execute_result",
          "data": {
            "text/plain": [
              "(864, 20)"
            ]
          },
          "metadata": {
            "tags": []
          },
          "execution_count": 109
        }
      ]
    },
    {
      "cell_type": "code",
      "metadata": {
        "id": "MqnVYyJ2w6kK"
      },
      "source": [
        "import seaborn as sns"
      ],
      "execution_count": null,
      "outputs": []
    },
    {
      "cell_type": "code",
      "metadata": {
        "id": "ZdC02Svrw6kK",
        "outputId": "72d136e1-a4a5-4dd8-9d2b-111fc18a4802"
      },
      "source": [
        "sns.violinplot(x='Market',y='Budget Sales',data=d15,hue='Product Type')\n",
        "plt.show()"
      ],
      "execution_count": null,
      "outputs": [
        {
          "output_type": "display_data",
          "data": {
            "image/png": "[encoded data removed]",
            "text/plain": [
              "<Figure size 432x288 with 1 Axes>"
            ]
          },
          "metadata": {
            "tags": []
          }
        }
      ]
    },
    {
      "cell_type": "code",
      "metadata": {
        "id": "MsCs35cEw6kK"
      },
      "source": [
        "### Pandas\n",
        "'''\n",
        "Dataframe - head, tail, sample,info, decribe, corr\n",
        "          - set_index, sort_values, groupby, fillna, dropna, drop, pop\n",
        "          - map, apply applymap, merge, concat, append\n",
        "          - datatime functions/properties\n",
        "'''"
      ],
      "execution_count": null,
      "outputs": []
    },
    {
      "cell_type": "code",
      "metadata": {
        "id": "-vMgr6cRw6kL"
      },
      "source": [
        ""
      ],
      "execution_count": null,
      "outputs": []
    },
    {
      "cell_type": "code",
      "metadata": {
        "id": "dV2C58ZJw6kL"
      },
      "source": [
        ""
      ],
      "execution_count": null,
      "outputs": []
    }
  ]
}